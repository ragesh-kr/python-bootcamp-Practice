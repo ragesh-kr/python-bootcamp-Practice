{
 "cells": [
  {
   "cell_type": "code",
   "execution_count": 24,
   "metadata": {},
   "outputs": [
    {
     "name": "stdout",
     "output_type": "stream",
     "text": [
      "Distance is : 9.433981132056603\n",
      "Slope is : 1.6\n"
     ]
    }
   ],
   "source": [
    "import math\n",
    "class Line:\n",
    "    \n",
    "    def __init__(self,cood1,cood2):\n",
    "        self.cood1=cood1\n",
    "        self.cood2=cood2\n",
    "    \n",
    "    def distance(self):\n",
    "        (x1,y1)=self.cood1\n",
    "        (x2,y2)=self.cood2       \n",
    "        dist=math.sqrt(((x2-x1)**2)+((y2-y1)**2))\n",
    "        return dist\n",
    "    \n",
    "    def slope(self):\n",
    "        (x1,y1)=self.cood1\n",
    "        (x2,y2)=self.cood2 \n",
    "        slope=(y2-y1)/(x2-x1)\n",
    "        return slope\n",
    "        \n",
    "        \n",
    "line_obj=Line((3,2),(8,10))\n",
    "dist=line_obj.distance()\n",
    "slope=line_obj.slope()\n",
    "print(f\"Distance is : {dist}\")\n",
    "print(f\"Slope is : {slope}\")"
   ]
  },
  {
   "cell_type": "code",
   "execution_count": 28,
   "metadata": {},
   "outputs": [
    {
     "name": "stdout",
     "output_type": "stream",
     "text": [
      "37.68\n",
      "28.26\n"
     ]
    }
   ],
   "source": [
    "class Cylinder:\n",
    "    \n",
    "    pi=3.14\n",
    "    \n",
    "    def __init__(self,height=1,radius=1):\n",
    "        self.height=height\n",
    "        self.radius=radius\n",
    "        \n",
    "    def volume(self):\n",
    "        volume = (4/3)*Cylinder.pi*self.radius**2\n",
    "        return volume\n",
    "    \n",
    "    def surface_area(self):\n",
    "        area=Cylinder.pi*self.radius**2\n",
    "        return area\n",
    "\n",
    "cylinder_obj=Cylinder(2,3)\n",
    "print(cylinder_obj.volume())\n",
    "print(cylinder_obj.surface_area())\n",
    "\n"
   ]
  },
  {
   "cell_type": "code",
   "execution_count": 32,
   "metadata": {},
   "outputs": [
    {
     "data": {
      "image/png": "[encoded data removed]",
      "text/plain": [
       "<Figure size 432x288 with 1 Axes>"
      ]
     },
     "metadata": {
      "needs_background": "light"
     },
     "output_type": "display_data"
    }
   ],
   "source": [
    "%matplotlib inline\n",
    "from matplotlib import pyplot as plt\n",
    "import numpy\n",
    "x = numpy.linspace(0, 1, 1000)**1.5\n",
    "# Here you get the output of the function\n",
    "plt.hist(x);"
   ]
  }
 ],
 "metadata": {
  "kernelspec": {
   "display_name": "Python 3",
   "language": "python",
   "name": "python3"
  },
  "language_info": {
   "codemirror_mode": {
    "name": "ipython",
    "version": 3
   },
   "file_extension": ".py",
   "mimetype": "text/x-python",
   "name": "python",
   "nbconvert_exporter": "python",
   "pygments_lexer": "ipython3",
   "version": "3.7.0"
  }
 },
 "nbformat": 4,
 "nbformat_minor": 2
}
