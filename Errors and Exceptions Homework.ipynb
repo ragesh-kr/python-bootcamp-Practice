{
 "cells": [
  {
   "cell_type": "code",
   "execution_count": 2,
   "metadata": {},
   "outputs": [
    {
     "name": "stdout",
     "output_type": "stream",
     "text": [
      "Dei uneducated fellow ! I cannot allow this calculation da funny bugger\n"
     ]
    }
   ],
   "source": [
    "try:\n",
    "    for i in ['a','b','c']:\n",
    "        print(i**2)\n",
    "except:\n",
    "    print(\"Dei uneducated fellow ! I cannot allow this calculation da funny bugger\")\n",
    "else:\n",
    "    print(\"Done saaar!\")\n",
    "    "
   ]
  },
  {
   "cell_type": "code",
   "execution_count": 7,
   "metadata": {},
   "outputs": [
    {
     "name": "stdout",
     "output_type": "stream",
     "text": [
      "Dei have u ever graduated 4th grade maths ra! How on earth can u divide by ZERO da,bloody govt skl retards!\n",
      "\n",
      "When u divide by zero it is infinity ra waste fellow! Read ramanujan da bloody ananda vikatan subscribers!\n"
     ]
    }
   ],
   "source": [
    "\n",
    "\n",
    "x = 5\n",
    "y = 0\n",
    "\n",
    "try:\n",
    "    z = x/y\n",
    "except ZeroDivisionError:\n",
    "    print(\"Dei have u ever graduated 4th grade maths ra! How on earth can u divide by ZERO da,bloody govt skl retards!\\n\")\n",
    "\n",
    "finally:\n",
    "    print(\"When u divide by zero it is infinity ra waste fellow! Read ramanujan da bloody ananda vikatan subscribers!\")\n",
    "    \n",
    "\n"
   ]
  },
  {
   "cell_type": "code",
   "execution_count": null,
   "metadata": {},
   "outputs": [
    {
     "name": "stdout",
     "output_type": "stream",
     "text": [
      "Enter a number da kanna : as\n",
      "Dei palayakanji pandaram , I clearly told you to enter number ra. \n",
      "I will ask you until you enter an Integer da uneducated Animal\n",
      "\n",
      "This is just a finally print statement just to follow the norms u see! Kandukatha..\n"
     ]
    }
   ],
   "source": [
    "\n",
    "def ask():\n",
    "    while True:\n",
    "        try:\n",
    "            a=int(input(\"Enter a number da kanna : \"))\n",
    "            square=a**2\n",
    "            \n",
    "        except:\n",
    "            print(\"Dei palayakanji pandaram , I clearly told you to enter number ra. \\nI will ask you until you enter an Integer da uneducated Animal\")\n",
    "            continue\n",
    "        else:\n",
    "            print(f\"The square is {square}\")\n",
    "            break\n",
    "        finally:\n",
    "            print(\"\\nThis is just a finally print statement just to follow the norms u see! Kandukatha..\")\n",
    "            \n",
    "\n",
    "ask()"
   ]
  }
 ],
 "metadata": {
  "kernelspec": {
   "display_name": "Python 3",
   "language": "python",
   "name": "python3"
  },
  "language_info": {
   "codemirror_mode": {
    "name": "ipython",
    "version": 3
   },
   "file_extension": ".py",
   "mimetype": "text/x-python",
   "name": "python",
   "nbconvert_exporter": "python",
   "pygments_lexer": "ipython3",
   "version": "3.7.0"
  }
 },
 "nbformat": 4,
 "nbformat_minor": 2
}
