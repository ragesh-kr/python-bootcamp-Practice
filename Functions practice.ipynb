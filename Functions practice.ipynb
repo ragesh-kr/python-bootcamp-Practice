{
 "cells": [
  {
   "cell_type": "code",
   "execution_count": 17,
   "metadata": {},
   "outputs": [
    {
     "data": {
      "text/plain": [
       "False"
      ]
     },
     "execution_count": 17,
     "metadata": {},
     "output_type": "execute_result"
    }
   ],
   "source": [
    "# verify if the the number is in the given range\n",
    "def is_inRange(num,low,high):\n",
    "    if num in range(low,high):\n",
    "        return True\n",
    "    else:\n",
    "        return False\n",
    "is_inRange(10,2,10)"
   ]
  },
  {
   "cell_type": "code",
   "execution_count": 14,
   "metadata": {},
   "outputs": [
    {
     "name": "stdout",
     "output_type": "stream",
     "text": [
      "523.81\n"
     ]
    }
   ],
   "source": [
    "#wap to compute the volume of a sphere\n",
    "\n",
    "def volume(r):\n",
    "    return ((4/3)*(22/7)*(r**3))\n",
    "\n",
    "print(round(volume(5),2))#using round command to limit to 2 decimal points\n"
   ]
  },
  {
   "cell_type": "code",
   "execution_count": 24,
   "metadata": {},
   "outputs": [
    {
     "name": "stdout",
     "output_type": "stream",
     "text": [
      "Total no of Upper Case letter :  4\n",
      "Total no of Lower Case letter :  33\n"
     ]
    }
   ],
   "source": [
    "#wap that accepts a string and calculate the number of upper case letters and lower case letters.\n",
    "\n",
    "def count(sentence):\n",
    "    lwr_count=0\n",
    "    uppr_count=0\n",
    "    for letter in sentence:\n",
    "        if letter.isupper():\n",
    "            uppr_count+=1\n",
    "        elif letter.islower():\n",
    "            lwr_count+=1\n",
    "    tup=(lwr_count,uppr_count)\n",
    "    return tup\n",
    "\n",
    "tupl=count(\"Hello Mr. Rogers, how are you this fine Tuesday?\")\n",
    "print(\"Total no of Upper Case letter : \",tupl[1])\n",
    "print(\"Total no of Lower Case letter : \",tupl[0])\n"
   ]
  },
  {
   "cell_type": "code",
   "execution_count": 29,
   "metadata": {},
   "outputs": [
    {
     "name": "stdout",
     "output_type": "stream",
     "text": [
      "[1, 2, 3, 4, 5]\n"
     ]
    }
   ],
   "source": [
    "#Write a Python function that takes a list and returns a new list with unique elements of the first list.\n",
    "def unique_list(list_1):\n",
    "    return list(set(list_1))\n",
    "list_1=[1,1,1,1,2,2,3,3,3,3,4,5]\n",
    "print(unique_list(list_1))"
   ]
  },
  {
   "cell_type": "code",
   "execution_count": 34,
   "metadata": {},
   "outputs": [
    {
     "name": "stdout",
     "output_type": "stream",
     "text": [
      "120\n"
     ]
    }
   ],
   "source": [
    "#Write a Python function to multiply all the numbers in a list.\n",
    "def multiply(list_1):\n",
    "    value=1\n",
    "    for item in list_1:\n",
    "        value=value*item\n",
    "        \n",
    "    return value\n",
    "list_1=[1,1,1,1,2,3,4,5]\n",
    "print(multiply(list_1))"
   ]
  },
  {
   "cell_type": "code",
   "execution_count": 49,
   "metadata": {},
   "outputs": [
    {
     "data": {
      "text/plain": [
       "True"
      ]
     },
     "execution_count": 49,
     "metadata": {},
     "output_type": "execute_result"
    }
   ],
   "source": [
    "#Write a Python function to check whether a string is pangram or not.\n",
    "import string\n",
    "def is_paligram(sentence):\n",
    "    \n",
    "    alphabets=\"abcdefghijklmnopqrstuvwxyz\"\n",
    "    \n",
    "    for item in alphabets:\n",
    "        if item in sentence.lower():\n",
    "            continue\n",
    "        else:\n",
    "            return False\n",
    "    return True\n",
    "\n",
    "is_paligram(\"The quick brown fox jumps over the lazy dog\")\n",
    "        \n",
    "\n",
    "    \n",
    "            \n",
    "    "
   ]
  },
  {
   "cell_type": "code",
   "execution_count": null,
   "metadata": {},
   "outputs": [],
   "source": []
  }
 ],
 "metadata": {
  "kernelspec": {
   "display_name": "Python 3",
   "language": "python",
   "name": "python3"
  },
  "language_info": {
   "codemirror_mode": {
    "name": "ipython",
    "version": 3
   },
   "file_extension": ".py",
   "mimetype": "text/x-python",
   "name": "python",
   "nbconvert_exporter": "python",
   "pygments_lexer": "ipython3",
   "version": "3.7.0"
  }
 },
 "nbformat": 4,
 "nbformat_minor": 2
}
