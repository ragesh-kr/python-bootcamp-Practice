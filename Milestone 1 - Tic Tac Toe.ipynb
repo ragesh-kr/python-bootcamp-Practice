{
 "cells": [
  {
   "cell_type": "code",
   "execution_count": 1,
   "metadata": {},
   "outputs": [],
   "source": [
    "def display_board(board):\n",
    "    \n",
    "    print(board[7]+'|'+board[8]+'|'+board[9])\n",
    "    print(board[4]+'|'+board[5]+'|'+board[6])\n",
    "    print(board[1]+'|'+board[2]+'|'+board[3])\n",
    "    \n",
    "\n",
    "\n",
    "\n"
   ]
  },
  {
   "cell_type": "code",
   "execution_count": 2,
   "metadata": {},
   "outputs": [],
   "source": [
    "def player_input():\n",
    "    flag=True\n",
    "    while flag:\n",
    "        input_value = input(\"Kindly select your input X/O : \")\n",
    "        if input_value.upper() =='X' or input_value.upper() == 'O':\n",
    "            \n",
    "            \n",
    "            break\n",
    "        else:\n",
    "            print(\"Please select the correct value formt he given option X/O!\")\n",
    "            continue\n",
    "    return input_value\n",
    "    \n",
    "\n",
    "\n",
    "            "
   ]
  },
  {
   "cell_type": "code",
   "execution_count": null,
   "metadata": {
    "scrolled": true
   },
   "outputs": [],
   "source": []
  },
  {
   "cell_type": "code",
   "execution_count": 3,
   "metadata": {},
   "outputs": [],
   "source": [
    "from IPython.display import clear_output\n",
    "\n",
    "def place_marker(board, marker, position):\n",
    "    \n",
    "    board[position]=marker\n",
    "    #clear_output()\n",
    "    \n",
    "    \n",
    "#place_marker(test_board,'X',8)\n",
    "#clear_output()\n",
    "\n",
    "    \n",
    "    "
   ]
  },
  {
   "cell_type": "code",
   "execution_count": 4,
   "metadata": {},
   "outputs": [],
   "source": [
    "def win_check(board,mark):\n",
    "    mark=mark.upper()\n",
    "    checking_list=[-1,3,-4]\n",
    "    i=1\n",
    "    if '*' in board:\n",
    "        pass\n",
    "    else:\n",
    "        \n",
    "        if board[7].upper()== board[8].upper()==board[9].upper()==mark:\n",
    "            return mark\n",
    "        elif board[4].upper()== board[5].upper()==board[6].upper()==mark:\n",
    "            return mark\n",
    "        elif board[1].upper()==board[2].upper()==board[3].upper()==mark:\n",
    "            return mark\n",
    "        elif board[7].upper()==board[4].upper()==board[1].upper()==mark:\n",
    "            return mark\n",
    "        elif board[8].upper()==board[5].upper()==board[2].upper()==mark:\n",
    "            return mark\n",
    "        elif board[9].upper()==board[6].upper()==board[3].upper()==mark:\n",
    "            return mark\n",
    "        elif board[1].upper()==board[5].upper()==board[9].upper()==mark:\n",
    "            return mark\n",
    "        elif board[7].upper()==board[5].upper()==board[3].upper()==mark:\n",
    "            return mark\n",
    "        else:\n",
    "            return False\n",
    "     \n",
    "\n",
    "\n",
    "        "
   ]
  },
  {
   "cell_type": "code",
   "execution_count": 5,
   "metadata": {},
   "outputs": [],
   "source": [
    "import random\n",
    "\n",
    "def choose_first():\n",
    "    \n",
    "    return random.choice(['X','O'])\n",
    "     \n",
    "    \n",
    "    \n"
   ]
  },
  {
   "cell_type": "code",
   "execution_count": 6,
   "metadata": {},
   "outputs": [],
   "source": [
    "def space_check(board,position):\n",
    "    if board[position].upper()!='X' or board[position].upper()!='Y':\n",
    "        return True\n",
    "    else:\n",
    "        return False\n",
    "\n"
   ]
  },
  {
   "cell_type": "code",
   "execution_count": 7,
   "metadata": {},
   "outputs": [],
   "source": [
    "def full_board_check(board):\n",
    "    if '*'in board:\n",
    "        return True\n",
    "    else:\n",
    "        return False\n",
    "    \n",
    "\n"
   ]
  },
  {
   "cell_type": "code",
   "execution_count": 8,
   "metadata": {},
   "outputs": [],
   "source": [
    "def player_choice(board):\n",
    "    next_position=int(input(\"Enter the next position : \"))\n",
    "    type(next_position)\n",
    "    if space_check(board,next_position)==True:\n",
    "        return int(next_position)\n",
    "    else:\n",
    "        return \"position not available anymore\""
   ]
  },
  {
   "cell_type": "code",
   "execution_count": 9,
   "metadata": {},
   "outputs": [],
   "source": [
    "def replay():\n",
    "    replay_choice=input(\"Do you wish to play another game ?? Y/N : \")\n",
    "    if replay_choice.upper()=='Y':\n",
    "        return True\n",
    "    else:\n",
    "        return False\n",
    "    \n"
   ]
  },
  {
   "cell_type": "code",
   "execution_count": 10,
   "metadata": {},
   "outputs": [
    {
     "name": "stdout",
     "output_type": "stream",
     "text": [
      "Welcome to Tic Tac Toe!\n",
      "\n",
      "\n",
      "True\n",
      "Kindly select your input X/O : x\n",
      "x\n",
      "Player 1 plays X and Player 2 plays O\n",
      "Player 1 plays first with marker X!\n",
      "Enter the next position : 1\n",
      "*|*|*\n",
      "*|*|*\n",
      "X|*|*\n",
      "Enter the next position : 5\n",
      "*|*|*\n",
      "*|O|*\n",
      "X|*|*\n",
      "Enter the next position : 3\n",
      "*|*|*\n",
      "*|O|*\n",
      "X|*|X\n",
      "Enter the next position : 8\n",
      "*|O|*\n",
      "*|O|*\n",
      "X|*|X\n",
      "Enter the next position : 2\n",
      "*|O|*\n",
      "*|O|*\n",
      "X|X|X\n",
      "Enter the next position : 6\n",
      "*|O|*\n",
      "*|O|O\n",
      "X|X|X\n",
      "Enter the next position : 4\n",
      "*|O|*\n",
      "X|O|O\n",
      "X|X|X\n",
      "Enter the next position : 7\n",
      "O|O|*\n",
      "X|O|O\n",
      "X|X|X\n",
      "Enter the next position : 9\n",
      "O|O|X\n",
      "X|O|O\n",
      "X|X|X\n",
      "Inside checking loop\n",
      "Inner while loop, about to exit\n",
      "board full!\n",
      "X WINS\n",
      "Exiting main while loop ['#', 'X', 'X', 'X', 'X', 'O', 'O', 'O', 'O', 'X']\n"
     ]
    }
   ],
   "source": [
    "print('Welcome to Tic Tac Toe!\\n\\n')\n",
    "#print(full_board_check(board))\n",
    "board=['#','*','*','*','*','*','*','*','*','*']\n",
    "print(full_board_check(board))\n",
    "#player1_input=''\n",
    "#player2_input=''\n",
    "while True:\n",
    "    player1_input=player_input()\n",
    "    print(player1_input)\n",
    "    if player1_input.upper()=='X':\n",
    "        player2_input='O'\n",
    "    else:\n",
    "        player2_input='X'\n",
    "    \n",
    "    print(f\"Player 1 plays {player1_input.upper()} and Player 2 plays {player2_input.upper()}\")\n",
    "    marker=choose_first()\n",
    "    order_list=['','']\n",
    "    if player1_input.upper()==marker:\n",
    "        order_list[0]=player1_input.upper()\n",
    "        order_list[1]=player2_input.upper()\n",
    "        print(f\"Player 1 plays first with marker {player1_input.upper()}!\")\n",
    "    else:\n",
    "        order_list[0]=player2_input.upper()\n",
    "        order_list[1]=player1_input.upper()\n",
    "        print(f\"Player 2 plays first with marker {player2_input.upper()}!\")\n",
    "    #trigger for mapping player 1 and player 2 markers    \n",
    "    count=1\n",
    "    \n",
    "    while 1:\n",
    "        if full_board_check(board)==False:\n",
    "            print(\"Inner while loop, about to exit\")\n",
    "            print('board full!')\n",
    "            if win_check(board,'X')=='X':\n",
    "                print(\"X WINS\")\n",
    "            elif win_check(board,'O')=='O':\n",
    "                print(\"O WINS\")\n",
    "            else:\n",
    "                print(\"Draw\")\n",
    "            break\n",
    "        else: \n",
    "            #For mapping input marker to player 1 or player 2\n",
    "            if count%2==0:\n",
    "                marker=order_list[1]\n",
    "            else:\n",
    "                marker=order_list[0]\n",
    "            \n",
    "            place_marker(board,marker,player_choice(board))\n",
    "            display_board(board)\n",
    "            count+=1\n",
    "            if win_check(board,'X')=='X'or win_check(board,'O')=='O':\n",
    "                print(\"Inside checking loop\")\n",
    "           \n",
    "            \n",
    "        \n",
    "            \n",
    "                  \n",
    "    \n",
    "    print(\"Exiting main while loop\",board)\n",
    "    break\n",
    "    "
   ]
  },
  {
   "cell_type": "code",
   "execution_count": null,
   "metadata": {},
   "outputs": [],
   "source": []
  },
  {
   "cell_type": "code",
   "execution_count": null,
   "metadata": {},
   "outputs": [],
   "source": []
  },
  {
   "cell_type": "code",
   "execution_count": null,
   "metadata": {},
   "outputs": [],
   "source": []
  },
  {
   "cell_type": "code",
   "execution_count": null,
   "metadata": {},
   "outputs": [],
   "source": []
  },
  {
   "cell_type": "code",
   "execution_count": null,
   "metadata": {},
   "outputs": [],
   "source": []
  }
 ],
 "metadata": {
  "kernelspec": {
   "display_name": "Python 3",
   "language": "python",
   "name": "python3"
  },
  "language_info": {
   "codemirror_mode": {
    "name": "ipython",
    "version": 3
   },
   "file_extension": ".py",
   "mimetype": "text/x-python",
   "name": "python",
   "nbconvert_exporter": "python",
   "pygments_lexer": "ipython3",
   "version": "3.7.0"
  }
 },
 "nbformat": 4,
 "nbformat_minor": 2
}
