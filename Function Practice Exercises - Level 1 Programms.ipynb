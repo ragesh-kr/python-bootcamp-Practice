{
 "cells": [
  {
   "cell_type": "code",
   "execution_count": 11,
   "metadata": {},
   "outputs": [
    {
     "data": {
      "text/plain": [
       "'MacDonalds'"
      ]
     },
     "execution_count": 11,
     "metadata": {},
     "output_type": "execute_result"
    }
   ],
   "source": [
    "#Write a function that capitalizes the first and fourth letters of a name\n",
    "def convert(name):\n",
    "    return name[0].upper()+name[1:3]+name[3].upper()+name[4:]\n",
    "\n",
    "convert(\"macdonalds\")\n"
   ]
  },
  {
   "cell_type": "code",
   "execution_count": 2,
   "metadata": {},
   "outputs": [
    {
     "data": {
      "text/plain": [
       "'home am I '"
      ]
     },
     "execution_count": 2,
     "metadata": {},
     "output_type": "execute_result"
    }
   ],
   "source": [
    "#Given a sentence, return a sentence with the words reversed\n",
    "\n",
    "def reverse_sentence(sentence):\n",
    "    new_string=\"\"\n",
    "    list_1=sentence.split()\n",
    "    #list_1=list_1[::-1]\n",
    "    #print(list_1)\n",
    "    i=len(list_1)-1\n",
    "    #print(i)\n",
    "    while i>=0:\n",
    "        #print(i)\n",
    "        new_string=new_string+list_1[i]+\" \"\n",
    "        i=i-1\n",
    "    return new_string\n",
    "   \n",
    "  \n",
    "reverse_sentence(\"I am home\")"
   ]
  },
  {
   "cell_type": "code",
   "execution_count": null,
   "metadata": {},
   "outputs": [],
   "source": [
    "#ALMOST THERE: Given an integer n, return True if n is within 10 of either 100 or 200\n",
    "def is_range(num):\n",
    "    if num in range(90,111) or num in range(190,211):\n",
    "        return True\n",
    "    else:\n",
    "        return False\n",
    "is_range(209)"
   ]
  },
  {
   "cell_type": "code",
   "execution_count": 10,
   "metadata": {},
   "outputs": [
    {
     "data": {
      "text/plain": [
       "True"
      ]
     },
     "execution_count": 10,
     "metadata": {},
     "output_type": "execute_result"
    }
   ],
   "source": [
    "#Given a list of ints, return True if the array contains a 3 next to a 3 somewhere.\n",
    "\n",
    "def has_33(num_list):\n",
    "    count=0\n",
    "    i=0\n",
    "    while i<(len(num_list)-1):        \n",
    "        if num_list[i]==3 and num_list[i+1]==3:\n",
    "            count=count+1\n",
    "            break\n",
    "        else:\n",
    "            count=0\n",
    "            \n",
    "        i=i+1\n",
    "    if count>0:\n",
    "        return True\n",
    "    else:\n",
    "        return False\n",
    "\n",
    "    \n",
    "has_33([3,0,1,3,3])\n",
    "\n",
    "    "
   ]
  },
  {
   "cell_type": "code",
   "execution_count": 13,
   "metadata": {},
   "outputs": [
    {
     "data": {
      "text/plain": [
       "'HHHeeellllllooo'"
      ]
     },
     "execution_count": 13,
     "metadata": {},
     "output_type": "execute_result"
    }
   ],
   "source": [
    "#PAPER DOLL: Given a string, return a string where for every character in the original there are three characters\n",
    "\n",
    "def triple(name):\n",
    "    new_value=\"\"\n",
    "    for a in name:\n",
    "        new_value=new_value+(a*3)\n",
    "    return new_value\n",
    "\n",
    "triple(\"Hello\")"
   ]
  },
  {
   "cell_type": "code",
   "execution_count": 12,
   "metadata": {},
   "outputs": [
    {
     "name": "stdout",
     "output_type": "stream",
     "text": [
      "Busted\n"
     ]
    }
   ],
   "source": [
    "#BLACKJACK: Given three integers between 1 and 11, if their sum is less than or equal to 21, return their sum. If their sum exceeds 21 and there's an eleven, reduce the total sum by 10. Finally, if the sum (even after adjustment) exceeds 21, return 'BUST'\n",
    "\n",
    "def check(num_list):\n",
    "    summ=0\n",
    "    if 11 in num_list:\n",
    "        for item in num_list:\n",
    "            summ=summ+item\n",
    "        if summ>21:\n",
    "            summ=summ-10\n",
    "            if summ>21:\n",
    "                print(\"Busted\")\n",
    "            else:\n",
    "                print(summ)\n",
    "    else:\n",
    "        for item in num_list:\n",
    "            summ=summ+item\n",
    "        if summ>21:\n",
    "            print(\"Busted\")\n",
    "        else:\n",
    "            print(summ)\n",
    "        \n",
    "           \n",
    "check([9,9,9])\n",
    "        "
   ]
  }
 ],
 "metadata": {
  "kernelspec": {
   "display_name": "Python 3",
   "language": "python",
   "name": "python3"
  },
  "language_info": {
   "codemirror_mode": {
    "name": "ipython",
    "version": 3
   },
   "file_extension": ".py",
   "mimetype": "text/x-python",
   "name": "python",
   "nbconvert_exporter": "python",
   "pygments_lexer": "ipython3",
   "version": "3.7.0"
  }
 },
 "nbformat": 4,
 "nbformat_minor": 2
}
